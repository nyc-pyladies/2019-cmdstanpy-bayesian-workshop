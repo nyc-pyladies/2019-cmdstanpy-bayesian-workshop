{
 "cells": [
  {
   "cell_type": "markdown",
   "metadata": {
    "colab_type": "text",
    "id": "kVjRq2yTHJLg"
   },
   "source": [
    "<center><h1>Bayesian Workflows with CmdStanPy:<br> \n",
    "  2019 FIFA Women's World Cup</h1></center><br>\n",
    "​\n",
    "​\n",
    "<h2> Table of Contents:<a name=\"TOC\"></a></h2>\n",
    "\n",
    "- [0. Overview](#overview)\n",
    "- [1. The Data](#data)\n",
    "- [2. The Model](#model)\n",
    "- [3. Setup CmdStanPy Package and WWC Data](#IDA)\n",
    "- [4. Input data as Python `dict`](#StanInput)\n",
    "- [5. Compile, Fit the Model](#StanModel)\n",
    "- [6. Model Checking](#checks)\n",
    "- [7. Visualizations!](#Plots)\n"
   ]
  },
  {
   "cell_type": "markdown",
   "metadata": {
    "colab_type": "text",
    "id": "ABeFaixrdb_4"
   },
   "source": [
    "## 0. Overview<a name=\"overview\"></a> \n",
    "\n",
    "The Bayesian workflow is one of model expansion and model comparison.  Therefore, we will start by creating the simplest possible model we can with the available data.\n",
    "\n",
    "Workflow review:\n",
    "\n",
    "- Data gathering, (preliminary data analysis)\n",
    "- Build the full joint probability model - use everything you know about the world and the data\n",
    "- Fit data to model (using Stan!)\n",
    "- Evaluate the fit:\n",
    "   + how good is the fit?\n",
    "   + do the predictions make sense?\n",
    "   + how sensitive are the results to the modeling assumptions?"
   ]
  },
  {
   "cell_type": "markdown",
   "metadata": {
    "colab_type": "text",
    "id": "oWeRK2M5dlA9"
   },
   "source": [
    "## 1. The Data<a name=\"data\"></a>\n",
    "\n",
    "The World Cup is a situation where we don't have much or any historical data on the events we want to make predictions for.\n",
    "\n",
    "We downloaded this data from [538 by Nate Silver](https://fivethirtyeight.com/methodology/how-our-club-soccer-predictions-work/)\n",
    "\n",
    "### Raw data\n",
    "\n",
    "* The number of teams participating: 24\n",
    "* For each of the 24 teams, a pre-world cup estimate of their ability as a Soccer Power Index (spi) score\n",
    "* The number of matches played up through the end of the quarterfinals round:  48\n",
    "* For each match, a record containing:\n",
    "    + identity of team 1\n",
    "    + identity of team 2\n",
    "    + goals scored by team 1\n",
    "    + goals scored by team 2\n",
    "\n",
    "The data is in the csv files:\n",
    "\n",
    "* [womens_world_cup_2019.csv](../data/womens_world_cup_2019.csv)\n",
    "* [country_prior.csv](../data/country_prior.csv)\n",
    "\n",
    "### Stan code\n",
    "\n",
    "We code this information in Stan as follows:\n",
    "```\n",
    "data {\n",
    "  int I;   // number of teams\n",
    "  int N;   // number of matches\n",
    "  vector[I] spi_std;  // per-team ranking\n",
    "  // this is a 4-column data table of per-game outcomes\n",
    "  int team_1[N];\n",
    "  int team_2[N];\n",
    "  vector[N] score_1;\n",
    "  vector[N] score_2;\n",
    "}\n",
    "```\n",
    "\n",
    "### Transformed data\n",
    "\n",
    "We transform the per-team number of goals scored into a single \"score differential\": \n",
    "\n",
    "$y = \\hbox{score}_1 - \\hbox{score}_2$\n",
    "\n",
    "i.e., if $y > 0$, Team 1 won, if $y == 0$ the game was a tie, if $y < 0$, Team 1 lost.\n",
    "\n",
    "### Stan code\n",
    "\n",
    "We code this information in Stan as follows:\n",
    "```\n",
    "transformed data {\n",
    "  vector[N] y = score_1 - score_2;  // \"modeled\" data\n",
    "}\n",
    "```"
   ]
  },
  {
   "cell_type": "markdown",
   "metadata": {
    "colab_type": "text",
    "id": "oWeRK2M5dlA9"
   },
   "source": [
    "## 2. The Model<a name=\"Model\"></a>\n",
    "\n",
    "The model we use is inspired by Andrew Gelman's [blog post](https://statmodeling.stat.columbia.edu/2014/07/13/stan-analyzes-world-cup-data/) that he wrote for the FIFA Men's World Cup 2014 games as an exercise in Stan modeling.  This is a very basic model.  We don't recommend using for betting, (unless you're betting against a non-Bayesian).\n",
    "\n",
    "The model is a variant of a common model used to infer team abilities called the [Bradley-Terry](https://github.com/stan-dev/example-models/blob/master/knitr/bradley-terry/team.stan) model where each team has an estimated ability modeled as the expected number* of goals that they will score per game.  The difference between team abilities predicts who will win the match.\n",
    "\n",
    "(*modeled as a continuous value, which isn't correct)\n",
    "\n",
    "### Model Parameters\n",
    "\n",
    "To model the ability of each team we set up a regression model where all teams have a common intercept term and each team has its own slope.  We set this up in Stan as follows:\n",
    "\n",
    "```\n",
    "parameters {\n",
    "  real beta;            // common intercept\n",
    "  vector[I] alpha;   // vector of per-team weights\n",
    "  real<lower=0> sigma_a;   // common variance\n",
    "  real<lower=0> sigma_y;  // noise term in our estimate\n",
    "}\n",
    "transformed parameters {\n",
    "  // \"mixed effects\" model - common intercept + random effects\n",
    "  vector[I] ability = beta * spi_std + alpha * sigma_a;\n",
    "}\n",
    "```\n",
    "\n",
    "### Likelihood and priors\n",
    "\n",
    "The essential part of this model in Stan is:\n",
    "```\n",
    "y ~ student_t(7, ability[team_1] - ability[team_2], sigma_y);\n",
    "```\n",
    "\n",
    "This statement says that `y`, (the number of goals scored by team 1 - the number of goals scored by team 2)\n",
    "is drawn from a Student_t distribution with 7 degrees of freedom.\n",
    "\n",
    "\n",
    "The Stan model block is:\n",
    "```\n",
    "model {\n",
    "  y ~ student_t(7, ability[team_1] - ability[team_2], sigma_y);\n",
    "\n",
    "  alpha ~ normal(0, 1); // priors on all parameters\n",
    "  beta ~ normal(0, 2.5);\n",
    "  sigma_a ~ normal(0, 2.5);\n",
    "  sigma_y ~ normal(0, 2.5);\n",
    "}\n",
    "```"
   ]
  },
  {
   "cell_type": "markdown",
   "metadata": {
    "colab_type": "text",
    "id": "g8NkqXbQHUoC"
   },
   "source": [
    "## 3. Importing Packages + Data <a name=\"IDA\"></a>"
   ]
  },
  {
   "cell_type": "markdown",
   "metadata": {
    "colab_type": "text",
    "id": "g8NkqXbQHUoC"
   },
   "source": [
    "### Install CmdStanPy\n",
    "\n",
    "Option 1:  install CmdStanPy using `pip`"
   ]
  },
  {
   "cell_type": "code",
   "execution_count": null,
   "metadata": {
    "colab": {
     "base_uri": "https://localhost:8080/",
     "height": 212
    },
    "colab_type": "code",
    "id": "PSFtpWvd_VQs",
    "outputId": "43e70d88-1734-40c9-ed99-11b089736769"
   },
   "outputs": [],
   "source": [
    "!pip install cmdstanpy"
   ]
  },
  {
   "cell_type": "markdown",
   "metadata": {},
   "source": [
    "Option 2:  clone github repo:"
   ]
  },
  {
   "cell_type": "code",
   "execution_count": null,
   "metadata": {
    "colab": {
     "base_uri": "https://localhost:8080/",
     "height": 212
    },
    "colab_type": "code",
    "id": "PSFtpWvd_VQs",
    "outputId": "43e70d88-1734-40c9-ed99-11b089736769"
   },
   "outputs": [],
   "source": [
    "!git clone https://github.com/stan-dev/cmdstanpy.git"
   ]
  },
  {
   "cell_type": "markdown",
   "metadata": {},
   "source": [
    "### Install CmdStan"
   ]
  },
  {
   "cell_type": "code",
   "execution_count": null,
   "metadata": {
    "colab": {
     "base_uri": "https://localhost:8080/",
     "height": 212
    },
    "colab_type": "code",
    "id": "PSFtpWvd_VQs",
    "outputId": "43e70d88-1734-40c9-ed99-11b089736769"
   },
   "outputs": [],
   "source": [
    "import cmdstanpy\n",
    "cmdstanpy.install_cmdstan()"
   ]
  },
  {
   "cell_type": "markdown",
   "metadata": {
    "colab_type": "text",
    "id": "GSS5Y1ET45kH"
   },
   "source": [
    "## 4. Input Data as Python `dict` <a name=\"StanInput\"></a>\n",
    "\n",
    "The input data for the model needs to be in a dictionary format with the following keys: <br>\n",
    "\n",
    "1. I: The number of teams <br>\n",
    "2. N: The number of matches played <br>\n",
    "3. team_1: A column of the \"first\" team <br>\n",
    "4. team_2: A column of the \"second\" team <br>\n",
    "5. score_1: Goals scored by the first team <br>\n",
    "6. score_2: Goals scored by the second team <br>\n",
    "7. prior_score: The countries' prior scores (i.e., spi's before the tournament) sorted in the descending order <br>"
   ]
  },
  {
   "cell_type": "markdown",
   "metadata": {
    "colab_type": "text",
    "id": "5q4ET8qE8Qr9"
   },
   "source": [
    "### Get the world cup data"
   ]
  },
  {
   "cell_type": "code",
   "execution_count": null,
   "metadata": {
    "colab": {
     "base_uri": "https://localhost:8080/",
     "height": 141
    },
    "colab_type": "code",
    "id": "d1GCk71sQdMk",
    "outputId": "5f548323-0c20-4316-e964-6f0aa7e03fe8"
   },
   "outputs": [],
   "source": [
    "!git clone https://github.com/nyc-pyladies/2019-cmdstanpy-bayesian-workshop"
   ]
  },
  {
   "cell_type": "markdown",
   "metadata": {
    "colab_type": "text",
    "id": "ZH_0intcYnSY"
   },
   "source": [
    "### We have two data files; The first one gives us information upto the quarterfinals:"
   ]
  },
  {
   "cell_type": "code",
   "execution_count": null,
   "metadata": {
    "colab": {
     "base_uri": "https://localhost:8080/",
     "height": 197
    },
    "colab_type": "code",
    "id": "Gd039M0k4c17",
    "outputId": "1104aaf4-9073-4df7-a00e-7507627a75be"
   },
   "outputs": [],
   "source": [
    "import numpy as np\n",
    "import pandas as pd\n",
    "\n",
    "matches = pd.read_csv('2019-cmdstanpy-bayesian-workshop/data/womens_world_cup_2019.csv')\n",
    "matches.head()"
   ]
  },
  {
   "cell_type": "markdown",
   "metadata": {
    "colab_type": "text",
    "id": "UoE2LAmG1LnK"
   },
   "source": [
    "The second one is a list of the countries that participated in the decreasing order of \"ability\" prior to the tournament. \n",
    "This would be our **PRIOR** here.\n",
    "We use the *soccer power index*, abbreviated here as \"spi\", as determined at [538 by Nate Silver](https://fivethirtyeight.com/methodology/how-our-club-soccer-predictions-work/). In the stan model, these feature as \"prior_score\" in the input and as \"ability\" in the model."
   ]
  },
  {
   "cell_type": "code",
   "execution_count": null,
   "metadata": {
    "colab": {
     "base_uri": "https://localhost:8080/",
     "height": 197
    },
    "colab_type": "code",
    "id": "IKOWYwhr4iuZ",
    "outputId": "d6f7229d-5856-4979-deca-baf6458f3836"
   },
   "outputs": [],
   "source": [
    "countries = pd.read_csv('2019-cmdstanpy-bayesian-workshop/data/country_prior.csv')\n",
    "countries.head()"
   ]
  },
  {
   "cell_type": "code",
   "execution_count": null,
   "metadata": {
    "colab": {},
    "colab_type": "code",
    "id": "WWNrhNKS4vv0"
   },
   "outputs": [],
   "source": [
    "mean = np.mean(countries['spi'])\n",
    "std = np.std(countries['spi'])\n",
    "\n",
    "#Rescaling the prior!\n",
    "countries['spi_std'] = [(x - mean)/std for x in countries['spi']]\n",
    "countries.head()"
   ]
  },
  {
   "cell_type": "code",
   "execution_count": null,
   "metadata": {
    "colab": {},
    "colab_type": "code",
    "id": "k9LX8FhM42ID"
   },
   "outputs": [],
   "source": [
    "country_mapping = countries.country.to_dict()\n",
    "country_mapping = {k:v+1 for v,k in country_mapping.items()}"
   ]
  },
  {
   "cell_type": "code",
   "execution_count": null,
   "metadata": {
    "colab": {},
    "colab_type": "code",
    "id": "J_T8o1AWcVaJ"
   },
   "outputs": [],
   "source": [
    "N = len(matches)\n",
    "I = len(countries)\n",
    "mydict = dict({'I': I,\n",
    "               'N': N,\n",
    "                'team_1': matches['team_1'].values,\n",
    "               'team_2': matches['team_2'].values,\n",
    "               'score_1': matches['score_1'].values,\n",
    "               'score_2': matches['score_2'].values,\n",
    "              'spi_std': countries['spi_std'].values})"
   ]
  },
  {
   "cell_type": "markdown",
   "metadata": {
    "colab_type": "text",
    "id": "JdL1cHyucwvu"
   },
   "source": [
    "We're now going to refer to the teams by a number that represents their pre-tournament ranking. To do that we first define a dictionary where the keys are the country names and the values are the team ranking."
   ]
  },
  {
   "cell_type": "code",
   "execution_count": null,
   "metadata": {
    "colab": {},
    "colab_type": "code",
    "id": "5lmGU_wjcs5w"
   },
   "outputs": [],
   "source": [
    "#Replace team names by their rankings;\n",
    "\n",
    "mydict['team_1'] = [ country_mapping.get(x) for x in mydict['team_1']]\n",
    "mydict['team_2'] = [ country_mapping.get(x) for x in mydict['team_2']]"
   ]
  },
  {
   "cell_type": "markdown",
   "metadata": {
    "colab_type": "text",
    "id": "g7FeAspic351"
   },
   "source": [
    "Our data is now prepped for Stan. We are ready to model it!"
   ]
  },
  {
   "cell_type": "markdown",
   "metadata": {
    "colab_type": "text",
    "id": "Vd8ZTyQVc_yr"
   },
   "source": [
    "## 5. Compile and Fit the Stan Model<a name=\"StanModel\"></a>"
   ]
  },
  {
   "cell_type": "code",
   "execution_count": null,
   "metadata": {
    "colab": {
     "base_uri": "https://localhost:8080/",
     "height": 90
    },
    "colab_type": "code",
    "id": "iVSf4h9pdJNT",
    "outputId": "23be6be5-cbca-4beb-90a7-2558f102ae67"
   },
   "outputs": [],
   "source": [
    "import cmdstanpy\n",
    "from cmdstanpy import Model, StanFit\n",
    "\n",
    "stan_wc = Model(stan_file='2019-cmdstanpy-bayesian-workshop/models/worldcup_pyladies.stan')\n",
    "stan_wc.compile()\n",
    "stan_wc"
   ]
  },
  {
   "cell_type": "markdown",
   "metadata": {
    "colab_type": "text",
    "id": "_kg_VaenrMRk"
   },
   "source": [
    "We can now fit the model to the data!"
   ]
  },
  {
   "cell_type": "code",
   "execution_count": null,
   "metadata": {
    "colab": {
     "base_uri": "https://localhost:8080/",
     "height": 158
    },
    "colab_type": "code",
    "id": "h9NIZYJ3eUWA",
    "outputId": "2d3b918b-7d3e-479e-b00d-cce1a9004f24"
   },
   "outputs": [],
   "source": [
    "worldcup_fit = stan_wc.sample(data=mydict, chains=4)"
   ]
  },
  {
   "cell_type": "markdown",
   "metadata": {},
   "source": [
    "## 6. Model Checking <a name=\"checks\"></a>"
   ]
  },
  {
   "cell_type": "code",
   "execution_count": null,
   "metadata": {
    "colab": {
     "base_uri": "https://localhost:8080/",
     "height": 338
    },
    "colab_type": "code",
    "id": "-SW37L8HefdL",
    "outputId": "c6e7609e-a869-405c-d56d-764b7e358110"
   },
   "outputs": [],
   "source": [
    "worldcup_fit.diagnose()"
   ]
  },
  {
   "cell_type": "markdown",
   "metadata": {
    "colab_type": "text",
    "id": "SZ5E5aA6r2Yp"
   },
   "source": [
    "The Stanfit \"summary\" method provides summaries of the estimates for all parameters in the model."
   ]
  },
  {
   "cell_type": "code",
   "execution_count": null,
   "metadata": {
    "colab": {
     "base_uri": "https://localhost:8080/",
     "height": 1000
    },
    "colab_type": "code",
    "id": "Egha0JVofii0",
    "outputId": "919366d3-c6cb-45ac-a72a-0e291291a9f2"
   },
   "outputs": [],
   "source": [
    "df = worldcup_fit.summary().round(decimals = 2)\n",
    "df"
   ]
  },
  {
   "cell_type": "markdown",
   "metadata": {
    "colab_type": "text",
    "id": "uOIQWOODsNlB"
   },
   "source": [
    "## 7. Interpretation, Visualization<a name=\"plots\"></a>\n"
   ]
  },
  {
   "cell_type": "code",
   "execution_count": null,
   "metadata": {
    "colab": {},
    "colab_type": "code",
    "id": "lvNKxnDxsdvC"
   },
   "outputs": [],
   "source": [
    "dft = df.transpose()\n",
    "import cmdstanpy\n",
    "\n",
    "ability_filter = [col for col in dft if col.startswith('ability')]\n",
    "yrep_filter = [col for col in dft if col.startswith('y_rep')]\n",
    "\n",
    "#Abilities\n",
    "abilities = dft[ability_filter]\n",
    "abilities"
   ]
  },
  {
   "cell_type": "code",
   "execution_count": null,
   "metadata": {
    "colab": {
     "base_uri": "https://localhost:8080/",
     "height": 337
    },
    "colab_type": "code",
    "id": "S3BORQNGsek6",
    "outputId": "f849ba48-f1ff-45b8-8dc0-9a2c0a42d616"
   },
   "outputs": [],
   "source": [
    "#Team Differentials\n",
    "td = dft[yrep_filter]\n",
    "td"
   ]
  },
  {
   "cell_type": "markdown",
   "metadata": {
    "colab_type": "text",
    "id": "IfubdeHxs7PJ"
   },
   "source": [
    "### Let's Make Some Plots!"
   ]
  },
  {
   "cell_type": "code",
   "execution_count": null,
   "metadata": {
    "colab": {},
    "colab_type": "code",
    "id": "HBDOMd1-8Kwt"
   },
   "outputs": [],
   "source": [
    "import matplotlib.pyplot as plt\n",
    "df_teamdifferentials = pd.DataFrame({'midway': td.loc['50%'].values,\n",
    "                                       'names':matches['match_list']})\n",
    "df_teamdifferentials.loc[:, 'left'] = td.loc['5%'].values\n",
    "df_teamdifferentials.loc[:, 'right'] = td.loc['95%'].values"
   ]
  },
  {
   "cell_type": "code",
   "execution_count": null,
   "metadata": {
    "colab": {},
    "colab_type": "code",
    "id": "d9FOdBJRvgCL"
   },
   "outputs": [],
   "source": [
    "actual_differentials = np.array([matches['score_1'][i]-matches['score_2'][i]  for i in range(len(matches))])"
   ]
  },
  {
   "cell_type": "code",
   "execution_count": null,
   "metadata": {
    "colab": {
     "base_uri": "https://localhost:8080/",
     "height": 915
    },
    "colab_type": "code",
    "id": "imGHIxup8ZcH",
    "outputId": "45493321-c294-4495-8970-b228b7b55f7d"
   },
   "outputs": [],
   "source": [
    "import os\n",
    "os.chdir('2019-cmdstanpy-bayesian-workshop/')\n",
    "from coefplot import coefficient_plot\n",
    "\n",
    "coefficient_plot(df_teamdifferentials['midway'], df_teamdifferentials['left'], \n",
    "                 df_teamdifferentials['right'], actual_differentials, \n",
    "                 names=df_teamdifferentials['names'],\n",
    "                 title='Game Differentials Coefficient Plot', \n",
    "                fig_size = (8,12))\n",
    "plt.tight_layout()"
   ]
  },
  {
   "cell_type": "code",
   "execution_count": null,
   "metadata": {
    "colab": {},
    "colab_type": "code",
    "id": "pOFq86s69Oqc"
   },
   "outputs": [],
   "source": [
    "df_abilities = pd.DataFrame({'midway': abilities.loc['50%'].values,\n",
    "                                       'names': countries['country']})\n",
    "df_abilities.loc[:, 'left'] = abilities.loc['5%'].values\n",
    "df_abilities.loc[:, 'right'] = abilities.loc['95%'].values"
   ]
  },
  {
   "cell_type": "code",
   "execution_count": null,
   "metadata": {
    "colab": {
     "base_uri": "https://localhost:8080/",
     "height": 860
    },
    "colab_type": "code",
    "id": "KxYttVVg9Oc1",
    "outputId": "31e14b25-05e9-4dcf-ffc3-2a41080c4190"
   },
   "outputs": [],
   "source": [
    "coefficient_plot(df_abilities['midway'], df_abilities['left'], \n",
    "                 df_abilities['right'], countries['spi_std'], \n",
    "                 names=df_abilities['names'],\n",
    "                 title='Abilities Coefficient Plot',\n",
    "                fig_size = (8,12))\n",
    "plt.tight_layout()"
   ]
  },
  {
   "cell_type": "markdown",
   "metadata": {
    "colab_type": "text",
    "id": "lsqe0rPj8Znz"
   },
   "source": [
    "### Let's Make Some Predictions! <a name=\"Pred\"></a>"
   ]
  },
  {
   "cell_type": "markdown",
   "metadata": {
    "colab_type": "text",
    "id": "fe_xGIiu8cm7"
   },
   "source": [
    "Here's what actually happened at the Semi-finals.\n",
    "\n",
    "**The Semi-finals:** <br>\n",
    "**1. England vs USA : 1-2**<br>\n",
    "**2. Netherlands vs Sweden: 1-0**<br>\n",
    "\n",
    "We are going to generate these matches using Stan and get the score-differentials. This is similar to what we did in the previous section: instead of \"replaying\" all the matches based on the tournament simulations, we are going to \"play\" the semi-finals and get the score differentials. Since we're a good month ahead of the events, we have the actual data for these matches and we get to assess how good our predictions are!"
   ]
  },
  {
   "cell_type": "code",
   "execution_count": null,
   "metadata": {
    "colab": {
     "base_uri": "https://localhost:8080/",
     "height": 87
    },
    "colab_type": "code",
    "id": "3y43dHsBdyWL",
    "outputId": "d15559d5-0dda-4bc4-f550-6eee58703761"
   },
   "outputs": [],
   "source": [
    "import collections\n",
    "semis_dict = collections.OrderedDict({'team_1': ['England', 'Netherlands'],\n",
    "                 'team_2': ['USA', 'Sweden'],\n",
    "                   'match_list': ['England vs USA', 'Netherlands vs Sweden'],\n",
    "                  'actual_score_differential': [-1, 1]})\n",
    "\n",
    "semis_dict['team_1'] = [ country_mapping.get(x) for x in semis_dict['team_1']]\n",
    "semis_dict['team_2'] = [ country_mapping.get(x) for x in semis_dict['team_2']]\n",
    "semis_dict"
   ]
  },
  {
   "cell_type": "code",
   "execution_count": null,
   "metadata": {
    "colab": {},
    "colab_type": "code",
    "id": "x18DM_-Z-FcM"
   },
   "outputs": [],
   "source": [
    "#Replace team names by their rankings;\n",
    "team1 = [ country_mapping.get(x) for x in matches['team_1']]\n",
    "team2 = [ country_mapping.get(x) for x in matches['team_2']]\n",
    "\n",
    "new_dict = collections.OrderedDict({'I': I,\n",
    "               'N': N,\n",
    "                'team_1': team1,\n",
    "               'team_2': team2,\n",
    "               'score_1': matches['score_1'].values,\n",
    "               'score_2': matches['score_2'].values,\n",
    "              'spi_std': countries['spi_std'].values,\n",
    "               'team_1_semis':[6, 5],\n",
    "                'team_2_semis':[1, 10]})\n",
    "\n"
   ]
  },
  {
   "cell_type": "code",
   "execution_count": null,
   "metadata": {
    "colab": {
     "base_uri": "https://localhost:8080/",
     "height": 1000
    },
    "colab_type": "code",
    "id": "QPuwTiYI-GSS",
    "outputId": "1b0e317b-3e9e-4ea9-924d-3bd68df5d1d8"
   },
   "outputs": [],
   "source": [
    "new_dict"
   ]
  },
  {
   "cell_type": "code",
   "execution_count": null,
   "metadata": {
    "colab": {
     "base_uri": "https://localhost:8080/",
     "height": 90
    },
    "colab_type": "code",
    "id": "HETn5BUmhWss",
    "outputId": "55b1ce14-2ca5-4098-ee0f-515606b3b02b"
   },
   "outputs": [],
   "source": [
    "stan_wc_semis = Model(stan_file='models/worldcup_semis.stan')\n",
    "stan_wc_semis.compile()\n",
    "stan_wc_semis"
   ]
  },
  {
   "cell_type": "code",
   "execution_count": null,
   "metadata": {
    "colab": {
     "base_uri": "https://localhost:8080/",
     "height": 158
    },
    "colab_type": "code",
    "id": "t5nEc3PxhYKT",
    "outputId": "f614e517-60c5-4db6-e701-abf864cd5c0e"
   },
   "outputs": [],
   "source": [
    "worldcup_semis_fit = stan_wc_semis.sample(data=new_dict, chains=4)"
   ]
  },
  {
   "cell_type": "code",
   "execution_count": null,
   "metadata": {
    "colab": {
     "base_uri": "https://localhost:8080/",
     "height": 338
    },
    "colab_type": "code",
    "id": "YfIxxSQKhbEw",
    "outputId": "6812e1ed-a8db-408c-bf68-3e6b00c52138"
   },
   "outputs": [],
   "source": [
    "worldcup_semis_fit.diagnose()\n",
    "worldcup_semis_fit.summary()"
   ]
  },
  {
   "cell_type": "code",
   "execution_count": null,
   "metadata": {
    "colab": {},
    "colab_type": "code",
    "id": "ktoloVauhfG8"
   },
   "outputs": [],
   "source": [
    "#We can re-do our entire analysis discussed in the previous section, but just for these two matches!\n",
    "df_semis = worldcup_semis_fit.summary().round(decimals = 2)\n",
    "dft_semis = df_semis.transpose()\n",
    "semi_filter = [col for col in dft_semis if col.startswith('semi')]\n",
    "td_semis = dft_semis[semi_filter]"
   ]
  },
  {
   "cell_type": "code",
   "execution_count": null,
   "metadata": {
    "colab": {},
    "colab_type": "code",
    "id": "lOkwZhL2hhu5"
   },
   "outputs": [],
   "source": [
    "df_teamdifferentials_semis = pd.DataFrame({'midway': td_semis.loc['50%'].values,\n",
    "                                       'names':semis_dict['match_list']})\n",
    "df_teamdifferentials_semis.loc[:, 'left'] = td_semis.loc['5%'].values\n",
    "df_teamdifferentials_semis.loc[:, 'right'] = td_semis.loc['95%'].values"
   ]
  },
  {
   "cell_type": "code",
   "execution_count": null,
   "metadata": {
    "colab": {
     "base_uri": "https://localhost:8080/",
     "height": 493
    },
    "colab_type": "code",
    "id": "Ti6WqJkahjXN",
    "outputId": "9851e770-5e73-4517-82df-b959b03ee2bd"
   },
   "outputs": [],
   "source": [
    "coefficient_plot(df_teamdifferentials_semis['midway'], \n",
    "                          df_teamdifferentials_semis['left'], \n",
    "                          df_teamdifferentials_semis['right'], \n",
    "                          np.array(semis_dict['actual_score_differential']),\n",
    "                          names=df_teamdifferentials_semis['names'], \n",
    "                          title='Game Differentials for the Semi-finals', \n",
    "                          fig_size = (9,10))\n",
    "plt.tight_layout()"
   ]
  },
  {
   "cell_type": "code",
   "execution_count": null,
   "metadata": {
    "colab": {},
    "colab_type": "code",
    "id": "r8IpPS8fhkkq"
   },
   "outputs": [],
   "source": []
  }
 ],
 "metadata": {
  "colab": {
   "collapsed_sections": [],
   "name": "BayesianWorkflowUsingCmdStanPy.ipynb",
   "provenance": [],
   "version": "0.3.2"
  },
  "kernelspec": {
   "display_name": "Python 3",
   "language": "python",
   "name": "python3"
  },
  "language_info": {
   "codemirror_mode": {
    "name": "ipython",
    "version": 3
   },
   "file_extension": ".py",
   "mimetype": "text/x-python",
   "name": "python",
   "nbconvert_exporter": "python",
   "pygments_lexer": "ipython3",
   "version": "3.7.0"
  }
 },
 "nbformat": 4,
 "nbformat_minor": 1
}
